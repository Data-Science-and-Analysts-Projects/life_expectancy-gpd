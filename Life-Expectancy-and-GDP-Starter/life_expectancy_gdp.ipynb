{
 "cells": [
  {
   "cell_type": "markdown",
   "metadata": {},
   "source": [
    "# Life Expectancy and GDP\n",
    "Written by TheJJSerg, Sug900, Fernando, and CalvinTheMechanic\n",
    "\n",
    "This is a Codecademy Portfolio Project to use data visualization to analyze and plot data from the World Health Organization and the World Bank to try and identify the relationship between the GDP and life expectancy of six countries.\n",
    "\n",
    "We will analyze, prepare, and plot data in order to answer questions in a meaningful way. After our analysis, we will be creating a blog post to share our findings on the World Health Organization website.\n",
    "\n",
    "## Project Objectives\n",
    "- Complete a project to add to our portfolio\n",
    "- Use `seaborn` and `Matplotlib` to create visualizations\n",
    "- Become familiar with presenting and sharing data visualizations\n",
    "- Preprocess, explore, and analyze data\n",
    "\n",
    "## Overview of the Data\n",
    "The dataset, `all_data.csv`, contains the following columns:\n",
    "- **Country**: nation for a specific observation\n",
    "- **Year**: the year for the observation\n",
    "- **Life expectancy at birth (years)**: the life expectancy value in years\n",
    "- **GDP**: Gross Domestic Product in U.S. dollars"
   ]
  },
  {
   "cell_type": "markdown",
   "metadata": {},
   "source": [
    "## Method and Analysis\n",
    "1. Data Loading and Tiding\n",
    "2. Data Analsyis\n",
    "3. Data Visualization\n",
    "4. Others"
   ]
  },
  {
   "cell_type": "markdown",
   "metadata": {},
   "source": [
    "1. Data Loading and Tiding"
   ]
  },
  {
   "cell_type": "code",
   "execution_count": 8,
   "metadata": {},
   "outputs": [
    {
     "name": "stdout",
     "output_type": "stream",
     "text": [
      "HEAD OF THE DATAFRAME:\n",
      "======================\n",
      "  Country  Year  Life expectancy at birth (years)           GDP\n",
      "0   Chile  2000                              77.3  7.786093e+10\n",
      "1   Chile  2001                              77.3  7.097992e+10\n",
      "2   Chile  2002                              77.8  6.973681e+10\n",
      "3   Chile  2003                              77.9  7.564346e+10\n",
      "4   Chile  2004                              78.0  9.921039e+10 \n",
      "\n",
      "INFORMATION ABOUT THE DATAFRAME VARIABLE TYPES & NON-NULL COUNTS:\n",
      "=================================================================\n",
      "<class 'pandas.core.frame.DataFrame'>\n",
      "RangeIndex: 96 entries, 0 to 95\n",
      "Data columns (total 4 columns):\n",
      " #   Column                            Non-Null Count  Dtype  \n",
      "---  ------                            --------------  -----  \n",
      " 0   Country                           96 non-null     object \n",
      " 1   Year                              96 non-null     int64  \n",
      " 2   Life expectancy at birth (years)  96 non-null     float64\n",
      " 3   GDP                               96 non-null     float64\n",
      "dtypes: float64(2), int64(1), object(1)\n",
      "memory usage: 3.1+ KB\n",
      "None \n",
      "\n",
      "DESCRIPTION ABOUT THE DATA:\n",
      "===========================\n",
      "       Country         Year  Life expectancy at birth (years)           GDP\n",
      "count       96    96.000000                         96.000000  9.600000e+01\n",
      "unique       6          NaN                               NaN           NaN\n",
      "top      Chile          NaN                               NaN           NaN\n",
      "freq        16          NaN                               NaN           NaN\n",
      "mean       NaN  2007.500000                         72.789583  3.880499e+12\n",
      "std        NaN     4.633971                         10.672882  5.197561e+12\n",
      "min        NaN  2000.000000                         44.300000  4.415703e+09\n",
      "25%        NaN  2003.750000                         74.475000  1.733018e+11\n",
      "50%        NaN  2007.500000                         76.750000  1.280220e+12\n",
      "75%        NaN  2011.250000                         78.900000  4.067510e+12\n",
      "max        NaN  2015.000000                         81.000000  1.810000e+13 \n",
      "\n",
      "INFORMATION ABOUT THE COUNTRY AND YEARS:\n",
      "=================================================================\n",
      "Unique Value of Country: ['Chile' 'China' 'Germany' 'Mexico' 'United States of America' 'Zimbabwe']\n",
      "Unique Value of Year: [2000 2001 2002 2003 2004 2005 2006 2007 2008 2009 2010 2011 2012 2013\n",
      " 2014 2015] \n",
      "\n",
      "DATAFRAME RENAMED AND TRANSFORMED:\n",
      "==================================\n",
      "     Country  Year  Life       GDP\n",
      "76     U.S.A  2012  78.8  16200.00\n",
      "20     China  2004  73.5   1955.35\n",
      "21     China  2005  73.9   2285.97\n",
      "84  Zimbabwe  2004  44.3      5.81\n",
      "11     Chile  2011  79.8    252.25\n",
      "25     China  2009  74.9   5109.95\n",
      "71     U.S.A  2007  78.1  14500.00\n",
      "31     China  2015  76.1  11064.70\n",
      "50    Mexico  2002  75.0    741.56\n",
      "47   Germany  2015  81.0   3375.61\n"
     ]
    }
   ],
   "source": [
    "#import libraries for the analysis\n",
    "import pandas as pd\n",
    "import numpy as np\n",
    "import matplotlib.pyplot as plt\n",
    "import seaborn as sn\n",
    "\n",
    "#read csv file into a dataframe\n",
    "gdp_data = pd.read_csv('all_data.csv')\n",
    "\n",
    "#print the first 5 rows\n",
    "print('HEAD OF THE DATAFRAME:')\n",
    "print('======================')\n",
    "print(gdp_data.head(),\"\\n\")\n",
    "\n",
    "#print the info of the df and main stats of the variables\n",
    "print('INFORMATION ABOUT THE DATAFRAME VARIABLE TYPES & NON-NULL COUNTS:')\n",
    "print('=================================================================')\n",
    "print(gdp_data.info(), \"\\n\")\n",
    "print('DESCRIPTION ABOUT THE DATA:')\n",
    "print('===========================')\n",
    "print(gdp_data.describe(include='all'), \"\\n\")\n",
    "\n",
    "# Analyzing unique values in Country and Year variables\n",
    "print('INFORMATION ABOUT THE COUNTRY AND YEARS:')\n",
    "print('=================================================================')\n",
    "print(f'Unique Value of Country: {gdp_data.Country.unique()}')\n",
    "print(f'Unique Value of Year: {gdp_data.Year.unique()}', \"\\n\")\n",
    "\n",
    "# Reduce the large name of United States of America.\n",
    "gdp_data.loc[gdp_data['Country'] == 'United States of America', 'Country'] = 'U.S.A'\n",
    "\n",
    "#reduce life expectancy variable name\n",
    "gdp_data.rename(columns={'Life expectancy at birth (years)': 'Life'}, inplace=True)\n",
    "\n",
    "# Escale of variable GDP in Billions\n",
    "gdp_data['GDP'] = (gdp_data['GDP'] / 1e9).round(2)\n",
    "\n",
    "print('DATAFRAME RENAMED AND TRANSFORMED:')\n",
    "print('==================================')\n",
    "print(gdp_data.sample(10))\n"
   ]
  },
  {
   "cell_type": "markdown",
   "metadata": {},
   "source": [
    "* The data contains 96 entries with no null values\n",
    "* The data types are correct as the `Country` variable is a string while the `Life expectancy at birth (years)` and `GDP` are float. The `Year` variable is an integer\n",
    "* The countries present in the data are: Chile, China, Germany, Mexico, United States of America and Zimbabwe.\n",
    "* The data were collected between the years 2000 and 2015.\n",
    "* The data shows no issues with missing data or wrong entries \n",
    "* The `Life expectancy at birth (years)` variable was renamed to `Life`\n",
    "* The `GDP` values were scaled to billions to improve interpretation and visualization."
   ]
  }
 ],
 "metadata": {
  "kernelspec": {
   "display_name": "Python 3 (ipykernel)",
   "language": "python",
   "name": "python3"
  },
  "language_info": {
   "codemirror_mode": {
    "name": "ipython",
    "version": 3
   },
   "file_extension": ".py",
   "mimetype": "text/x-python",
   "name": "python",
   "nbconvert_exporter": "python",
   "pygments_lexer": "ipython3",
   "version": "3.11.5"
  }
 },
 "nbformat": 4,
 "nbformat_minor": 4
}
