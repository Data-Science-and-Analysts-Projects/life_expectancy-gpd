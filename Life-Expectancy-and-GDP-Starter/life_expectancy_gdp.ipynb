{
 "cells": [
  {
   "cell_type": "markdown",
   "metadata": {},
   "source": [
    "# Life Expectancy and GDP\n",
    "Written by TheJJSerg, Sug900, Fernando, and CalvinTheMechanic\n",
    "\n",
    "This is a Codecademy Portfolio Project to use data visualization to analyze and plot data from the World Health Organization and the World Bank to try and identify the relationship between the GDP and life expectancy of six countries.\n",
    "\n",
    "We will analyze, prepare, and plot data in order to answer questions in a meaningful way. After our analysis, we will be creating a blog post to share our findings on the World Health Organization website.\n",
    "\n",
    "## Project Objectives\n",
    "- Complete a project to add to our portfolio\n",
    "- Use `seaborn` and `Matplotlib` to create visualizations\n",
    "- Become familiar with presenting and sharing data visualizations\n",
    "- Preprocess, explore, and analyze data\n",
    "\n",
    "## Overview of the Data\n",
    "The dataset, `all_data.csv`, contains the following columns:\n",
    "- **Country**: nation for a specific observation\n",
    "- **Year**: the year for the observation\n",
    "- **Life expectancy at birth (years)**: the life expectancy value in years\n",
    "- **GDP**: Gross Domestic Product in U.S. dollars"
   ]
  },
  {
   "cell_type": "markdown",
   "metadata": {},
   "source": [
    "## Method and Analysis\n",
    "1. Data Loading and Tiding\n",
    "2. Data Analsyis\n",
    "3. Data Visualization\n",
    "4. Others"
   ]
  },
  {
   "cell_type": "markdown",
   "metadata": {},
   "source": [
    "1. Data Loading and Tiding"
   ]
  },
  {
   "cell_type": "code",
   "execution_count": null,
   "metadata": {},
   "outputs": [],
   "source": [
    "#import libraries for the analysis\n",
    "import pandas as pd\n",
    "import numpy as np\n",
    "import matplotlib.pyplot as plt\n",
    "import seaborn as sns\n",
    "\n",
    "#read csv file into a dataframe\n",
    "gdp_data = pd.read_csv('all_data.csv')\n",
    "\n",
    "#print the first 5 rows\n",
    "print('HEAD OF THE DATAFRAME:')\n",
    "print('======================')\n",
    "print(gdp_data.head(),\"\\n\")\n",
    "\n",
    "#print the info of the df and main stats of the variables\n",
    "print('INFORMATION ABOUT THE DATAFRAME VARIABLE TYPES & NON-NULL COUNTS:')\n",
    "print('=================================================================')\n",
    "print(gdp_data.info(), \"\\n\")\n",
    "print('DESCRIPTION ABOUT THE DATA:')\n",
    "print('===========================')\n",
    "print(gdp_data.describe(include='all'), \"\\n\")\n",
    "#reduce life expectancy variable name\n",
    "\n",
    "gdp_data.rename(columns={'Life expectancy at birth (years)': 'Life'}, inplace=True)\n",
    "print('DATAFRAME RENAMED:')\n",
    "print('===========================')\n",
    "print(gdp_data.head())"
   ]
  },
  {
   "cell_type": "markdown",
   "metadata": {},
   "source": [
    "* The data contains 96 entries with no null values\n",
    "* The data types are correct as the `Country` variable is a string while the `Life expectancy at birth (years)` and `GDP` are float. The `Year` variable is an integer\n",
    "* The data shows no issues with missing data or wrong entries \n",
    "* The `Life expectancy at birth (years)` variable was renamed to `Life`"
   ]
  },
  {
   "cell_type": "markdown",
   "metadata": {},
   "source": [
    "Since there are six different countries, we will create six different DataFrames to analyze specific countries more efficiently."
   ]
  },
  {
   "cell_type": "code",
   "execution_count": null,
   "metadata": {},
   "outputs": [],
   "source": [
    "# Create DataFrames for Each Country\n",
    "chile = gdp_data[gdp_data[\"Country\"] == \"Chile\"]\n",
    "china = gdp_data[gdp_data[\"Country\"] == \"China\"]\n",
    "germany = gdp_data[gdp_data[\"Country\"] == \"Germany\"]\n",
    "mexico = gdp_data[gdp_data[\"Country\"] == \"Mexico\"]\n",
    "usa = gdp_data[gdp_data[\"Country\"] == \"United States of America\"]\n",
    "zimbabwe = gdp_data[gdp_data[\"Country\"] == \"Zimbabwe\"]"
   ]
  },
  {
   "cell_type": "markdown",
   "metadata": {},
   "source": [
    "We will visualize the different spread for `Life Expectancy` for each country."
   ]
  },
  {
   "cell_type": "code",
   "execution_count": null,
   "metadata": {},
   "outputs": [],
   "source": [
    "# Create a Figure\n",
    "fig = plt.figure(figsize = (10, 10))\n",
    "plt.subplots_adjust(hspace = .5)\n",
    "\n",
    "# Create the First Subplot, Chile\n",
    "ax1 = plt.subplot(3, 2, 1) # 3 Rows, 2 Columns, 1st Subplot\n",
    "plt.hist(chile[\"Life\"])\n",
    "plt.title(\"Chile's Life Expectancy\")\n",
    "plt.xlabel(\"Years\")\n",
    "plt.ylabel(\"Frequency\")\n",
    "\n",
    "# Create the Second Subplot, China\n",
    "ax2 = plt.subplot(3, 2, 2)\n",
    "plt.hist(china[\"Life\"])\n",
    "plt.title(\"China's Life Expectancy\")\n",
    "plt.xlabel(\"Years\")\n",
    "plt.ylabel(\"Frequency\")\n",
    "\n",
    "# Create the Third Subplot, Germany\n",
    "ax3 = plt.subplot(3, 2, 3)\n",
    "plt.hist(germany[\"Life\"])\n",
    "plt.title(\"Germany's Life Expectancy\")\n",
    "plt.xlabel(\"Years\")\n",
    "plt.ylabel(\"Frequency\")\n",
    "\n",
    "# Create the Fourth Subplot, Mexico\n",
    "ax4 = plt.subplot(3, 2, 4)\n",
    "plt.hist(mexico[\"Life\"])\n",
    "plt.title(\"Mexico's Life Expectancy\")\n",
    "plt.xlabel(\"Years\")\n",
    "plt.ylabel(\"Frequency\")\n",
    "\n",
    "# Create the Fifth Subplot, USA\n",
    "ax5 = plt.subplot(3, 2, 5)\n",
    "plt.hist(usa[\"Life\"])\n",
    "plt.title(\"USA's Life Expectancy\")\n",
    "plt.xlabel(\"Years\")\n",
    "plt.ylabel(\"Frequency\")\n",
    "\n",
    "# Create the Sixth Subplot, Zimbabwe\n",
    "ax6 = plt.subplot(3, 2, 6)\n",
    "plt.hist(zimbabwe[\"Life\"])\n",
    "plt.title(\"Zimbabwe's Life Expectancy\")\n",
    "plt.xlabel(\"Years\")\n",
    "plt.ylabel(\"Frequency\")\n",
    "\n",
    "# Show and Close the Plot\n",
    "plt.show()\n",
    "plt.close()\n",
    "\n",
    "##########\n",
    "# Create a histogram of All Countries' Life Expectancy\n",
    "plt.hist(gdp_data[\"Life\"])\n",
    "\n",
    "# Create labels for the plot\n",
    "plt.title(\"All Countries' Life Expectancy\")\n",
    "plt.xlabel(\"Years\")\n",
    "plt.ylabel(\"Frequency\")\n",
    "\n",
    "# Show and close the plot\n",
    "plt.show()\n",
    "plt.close()"
   ]
  },
  {
   "cell_type": "markdown",
   "metadata": {},
   "source": [
    "The distributions for `Life Expectancy` doesn't appear to have any pattern between them. However, `Zimbabwe`'s distribution of `Life Expectancy` is significantly smaller than the distribution of the other countries' `Life Expectancy`. In the combined **All Countries' Life Expectancy** histogram, `Zimbabwe` looks to be an outlier to the rest of the countries, who have a relatively higher `Life Expectancy`. "
   ]
  },
  {
   "cell_type": "code",
   "execution_count": null,
   "metadata": {},
   "outputs": [],
   "source": [
    "# Create boxplots of life expectancy and country\n",
    "sns.boxplot(x = \"Country\", y = \"Life\", data = gdp_data)\n",
    "\n",
    "# Create an axes object\n",
    "ax = plt.subplot()\n",
    "# Set the x-tick position using a list of numbers by the length of unique Years\n",
    "ax.set_xticks(range(len(gdp_data[\"Country\"].unique()))) \n",
    "# Set the x-tick labels and rotate them by 30 degrees\n",
    "ax.set_xticklabels([\"Chile\", \"China\", \"Germany\", \"Mexico\", \"USA\", \"Zimbabwe\"], \n",
    "                   rotation = 30)\n",
    "\n",
    "# Create labels for the plot\n",
    "plt.title(\"Boxplots of Life Expectancy by Country\")\n",
    "\n",
    "# Show and close the plot\n",
    "plt.show()\n",
    "plt.close()"
   ]
  },
  {
   "cell_type": "code",
   "execution_count": null,
   "metadata": {},
   "outputs": [],
   "source": [
    "# Create boxplots of life expectancy and year\n",
    "sns.boxplot(x = \"Year\", y = \"Life\", data = gdp_data)\n",
    "\n",
    "# Create an axes object\n",
    "ax = plt.subplot()\n",
    "# Set the x-tick position using a list of numbers by the length of unique Years\n",
    "ax.set_xticks(range(len(gdp_data[\"Year\"].unique()))) \n",
    "# Set the x-tick labels and rotate them by 30 degrees\n",
    "ax.set_xticklabels(gdp_data[\"Year\"].unique(), rotation = 30)\n",
    "\n",
    "# Create labels for the plot\n",
    "plt.title(\"Boxplots of Life Expectancy by Year\")\n",
    "\n",
    "# Show and close the plot\n",
    "plt.show()\n",
    "plt.close()"
   ]
  },
  {
   "cell_type": "code",
   "execution_count": null,
   "metadata": {},
   "outputs": [],
   "source": [
    "# Create a scatterplot Year vs Life Expectancy\n",
    "sns.scatterplot(x = \"Year\", y = \"Life\", hue = \"Country\", \n",
    "                palette = \"bright\", data = gdp_data)\n",
    "\n",
    "# Create labels for the plot\n",
    "plt.title(\"Scatterplot of Year vs Life\")\n",
    "plt.legend()\n",
    "\n",
    "# Show and close the plot\n",
    "plt.show()\n",
    "plt.close()"
   ]
  },
  {
   "cell_type": "code",
   "execution_count": null,
   "metadata": {},
   "outputs": [],
   "source": [
    "# Create a scatterplot Year vs Life Expectancy\n",
    "sns.scatterplot(x = \"GDP\", y = \"Life\", hue = \"Country\", \n",
    "                palette = \"bright\", data = gdp_data)\n",
    "\n",
    "# Create labels for the plot\n",
    "plt.title(\"Scatterplot of GDP vs Life\")\n",
    "plt.legend()\n",
    "\n",
    "# Show and close the plot\n",
    "plt.show()\n",
    "plt.close()"
   ]
  },
  {
   "cell_type": "code",
   "execution_count": null,
   "metadata": {},
   "outputs": [],
   "source": [
    "# Create a scatterplot Year vs GDP\n",
    "sns.scatterplot(x = \"Year\", y = \"GDP\", hue = \"Country\", \n",
    "                data = gdp_data)\n",
    "\n",
    "# Create labels for the plot\n",
    "plt.title(\"Scatterplot of Year vs GDP by Country\")\n",
    "plt.legend()\n",
    "\n",
    "# Show and close the plot\n",
    "plt.show()\n",
    "plt.close()"
   ]
  },
  {
   "cell_type": "code",
   "execution_count": null,
   "metadata": {},
   "outputs": [],
   "source": [
    "# Create a histogram of gdp\n",
    "plt.hist(gdp_data[\"GDP\"])\n",
    "\n",
    "# Create labels for the plot\n",
    "plt.title(\"Histogram of GDP\")\n",
    "\n",
    "# Show and close the plot\n",
    "plt.show()\n",
    "plt.close()"
   ]
  }
 ],
 "metadata": {
  "kernelspec": {
   "display_name": "Python 3 (ipykernel)",
   "language": "python",
   "name": "python3"
  },
  "language_info": {
   "codemirror_mode": {
    "name": "ipython",
    "version": 3
   },
   "file_extension": ".py",
   "mimetype": "text/x-python",
   "name": "python",
   "nbconvert_exporter": "python",
   "pygments_lexer": "ipython3",
   "version": "3.11.5"
  }
 },
 "nbformat": 4,
 "nbformat_minor": 4
}
