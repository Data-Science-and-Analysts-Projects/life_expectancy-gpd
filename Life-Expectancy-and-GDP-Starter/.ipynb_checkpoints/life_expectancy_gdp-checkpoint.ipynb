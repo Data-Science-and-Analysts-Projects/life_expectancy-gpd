{
 "cells": [
  {
   "cell_type": "markdown",
   "metadata": {},
   "source": [
    "# Life Expectancy and GDP\n",
    "Written by TheJJSerg, Sug900, Fernando, and CalvinTheMechanic\n",
    "\n",
    "This is a Codecademy Portfolio Project to use data visualization to analyze and plot data from the World Health Organization and the World Bank to try and identify the relationship between the GDP and life expectancy of six countries.\n",
    "\n",
    "We will analyze, prepare, and plot data in order to answer questions in a meaningful way. After our analysis, we will be creating a blog post to share our findings on the World Health Organization website.\n",
    "\n",
    "## Project Objectives\n",
    "- Complete a project to add to our portfolio\n",
    "- Use `seaborn` and `Matplotlib` to create visualizations\n",
    "- Become familiar with presenting and sharing data visualizations\n",
    "- Preprocess, explore, and analyze data\n",
    "\n",
    "## Overview of the Data\n",
    "The dataset, `all_data.csv`, contains the following columns:\n",
    "- **Country**: nation for a specific observation\n",
    "- **Year**: the year for the observation\n",
    "- **Life expectancy at birth (years)**: the life expectancy value in years\n",
    "- **GDP**: Gross Domestic Product in U.S. dollars"
   ]
  },
  {
   "cell_type": "markdown",
   "metadata": {},
   "source": [
    "## Method and Analysis\n",
    "1. Data Loading and Tiding\n",
    "2. Data Analsyis\n",
    "3. Data Visualization\n",
    "4. Others"
   ]
  },
  {
   "cell_type": "markdown",
   "metadata": {},
   "source": [
    "1. Data Loading and Tiding"
   ]
  },
  {
   "cell_type": "code",
   "execution_count": 1,
   "metadata": {},
   "outputs": [
    {
     "name": "stdout",
     "output_type": "stream",
     "text": [
      "HEAD OF THE DATAFRAME:\n",
      "======================\n",
      "  Country  Year  Life expectancy at birth (years)           GDP\n",
      "0   Chile  2000                              77.3  7.786093e+10\n",
      "1   Chile  2001                              77.3  7.097992e+10\n",
      "2   Chile  2002                              77.8  6.973681e+10\n",
      "3   Chile  2003                              77.9  7.564346e+10\n",
      "4   Chile  2004                              78.0  9.921039e+10 \n",
      "\n",
      "INFORMATION ABOUT THE DATAFRAME VARIABLE TYPES & NON-NULL COUNTS:\n",
      "=================================================================\n",
      "<class 'pandas.core.frame.DataFrame'>\n",
      "RangeIndex: 96 entries, 0 to 95\n",
      "Data columns (total 4 columns):\n",
      " #   Column                            Non-Null Count  Dtype  \n",
      "---  ------                            --------------  -----  \n",
      " 0   Country                           96 non-null     object \n",
      " 1   Year                              96 non-null     int64  \n",
      " 2   Life expectancy at birth (years)  96 non-null     float64\n",
      " 3   GDP                               96 non-null     float64\n",
      "dtypes: float64(2), int64(1), object(1)\n",
      "memory usage: 3.1+ KB\n",
      "None \n",
      "\n",
      "DESCRIPTION ABOUT THE DATA:\n",
      "===========================\n",
      "       Country         Year  Life expectancy at birth (years)           GDP\n",
      "count       96    96.000000                         96.000000  9.600000e+01\n",
      "unique       6          NaN                               NaN           NaN\n",
      "top      Chile          NaN                               NaN           NaN\n",
      "freq        16          NaN                               NaN           NaN\n",
      "mean       NaN  2007.500000                         72.789583  3.880499e+12\n",
      "std        NaN     4.633971                         10.672882  5.197561e+12\n",
      "min        NaN  2000.000000                         44.300000  4.415703e+09\n",
      "25%        NaN  2003.750000                         74.475000  1.733018e+11\n",
      "50%        NaN  2007.500000                         76.750000  1.280220e+12\n",
      "75%        NaN  2011.250000                         78.900000  4.067510e+12\n",
      "max        NaN  2015.000000                         81.000000  1.810000e+13 \n",
      "\n",
      "DATAFRAME RENAMED:\n",
      "===========================\n",
      "  Country  Year  Life           GDP\n",
      "0   Chile  2000  77.3  7.786093e+10\n",
      "1   Chile  2001  77.3  7.097992e+10\n",
      "2   Chile  2002  77.8  6.973681e+10\n",
      "3   Chile  2003  77.9  7.564346e+10\n",
      "4   Chile  2004  78.0  9.921039e+10\n"
     ]
    }
   ],
   "source": [
    "#import libraries for the analysis\n",
    "import pandas as pd\n",
    "import numpy as np\n",
    "import matplotlib.pyplot as plt\n",
    "import seaborn as sns\n",
    "\n",
    "#read csv file into a dataframe\n",
    "gdp_data = pd.read_csv('all_data.csv')\n",
    "\n",
    "#print the first 5 rows\n",
    "print('HEAD OF THE DATAFRAME:')\n",
    "print('======================')\n",
    "print(gdp_data.head(),\"\\n\")\n",
    "\n",
    "#print the info of the df and main stats of the variables\n",
    "print('INFORMATION ABOUT THE DATAFRAME VARIABLE TYPES & NON-NULL COUNTS:')\n",
    "print('=================================================================')\n",
    "print(gdp_data.info(), \"\\n\")\n",
    "print('DESCRIPTION ABOUT THE DATA:')\n",
    "print('===========================')\n",
    "print(gdp_data.describe(include='all'), \"\\n\")\n",
    "#reduce life expectancy variable name\n",
    "\n",
    "gdp_data.rename(columns={'Life expectancy at birth (years)': 'Life'}, inplace=True)\n",
    "print('DATAFRAME RENAMED:')\n",
    "print('===========================')\n",
    "print(gdp_data.head())"
   ]
  },
  {
   "cell_type": "markdown",
   "metadata": {},
   "source": [
    "* The data contains 96 entries with no null values\n",
    "* The data types are correct as the `Country` variable is a string while the `Life expectancy at birth (years)` and `GDP` are float. The `Year` variable is an integer\n",
    "* The data shows no issues with missing data or wrong entries \n",
    "* The `Life expectancy at birth (years)` variable was renamed to `Life`"
   ]
  },
  {
   "cell_type": "markdown",
   "metadata": {},
   "source": [
    "We will visualize the data."
   ]
  },
  {
   "cell_type": "code",
   "execution_count": 2,
   "metadata": {},
   "outputs": [
    {
     "data": {
      "text/html": [
       "<div>\n",
       "<style scoped>\n",
       "    .dataframe tbody tr th:only-of-type {\n",
       "        vertical-align: middle;\n",
       "    }\n",
       "\n",
       "    .dataframe tbody tr th {\n",
       "        vertical-align: top;\n",
       "    }\n",
       "\n",
       "    .dataframe thead th {\n",
       "        text-align: right;\n",
       "    }\n",
       "</style>\n",
       "<table border=\"1\" class=\"dataframe\">\n",
       "  <thead>\n",
       "    <tr style=\"text-align: right;\">\n",
       "      <th></th>\n",
       "      <th>Country</th>\n",
       "      <th>Year</th>\n",
       "      <th>Life</th>\n",
       "      <th>GDP</th>\n",
       "    </tr>\n",
       "  </thead>\n",
       "  <tbody>\n",
       "    <tr>\n",
       "      <th>0</th>\n",
       "      <td>Chile</td>\n",
       "      <td>2000</td>\n",
       "      <td>77.3</td>\n",
       "      <td>7.786093e+10</td>\n",
       "    </tr>\n",
       "    <tr>\n",
       "      <th>1</th>\n",
       "      <td>Chile</td>\n",
       "      <td>2001</td>\n",
       "      <td>77.3</td>\n",
       "      <td>7.097992e+10</td>\n",
       "    </tr>\n",
       "    <tr>\n",
       "      <th>2</th>\n",
       "      <td>Chile</td>\n",
       "      <td>2002</td>\n",
       "      <td>77.8</td>\n",
       "      <td>6.973681e+10</td>\n",
       "    </tr>\n",
       "    <tr>\n",
       "      <th>3</th>\n",
       "      <td>Chile</td>\n",
       "      <td>2003</td>\n",
       "      <td>77.9</td>\n",
       "      <td>7.564346e+10</td>\n",
       "    </tr>\n",
       "    <tr>\n",
       "      <th>4</th>\n",
       "      <td>Chile</td>\n",
       "      <td>2004</td>\n",
       "      <td>78.0</td>\n",
       "      <td>9.921039e+10</td>\n",
       "    </tr>\n",
       "  </tbody>\n",
       "</table>\n",
       "</div>"
      ],
      "text/plain": [
       "  Country  Year  Life           GDP\n",
       "0   Chile  2000  77.3  7.786093e+10\n",
       "1   Chile  2001  77.3  7.097992e+10\n",
       "2   Chile  2002  77.8  6.973681e+10\n",
       "3   Chile  2003  77.9  7.564346e+10\n",
       "4   Chile  2004  78.0  9.921039e+10"
      ]
     },
     "execution_count": 2,
     "metadata": {},
     "output_type": "execute_result"
    }
   ],
   "source": [
    "gdp_data.head()"
   ]
  },
  {
   "cell_type": "code",
   "execution_count": 3,
   "metadata": {},
   "outputs": [
    {
     "data": {
      "image/png": "[encoded data removed]",
      "text/plain": [
       "<Figure size 640x480 with 1 Axes>"
      ]
     },
     "metadata": {},
     "output_type": "display_data"
    }
   ],
   "source": [
    "# Create a Bar Chart for Country\n",
    "sns.countplot(x = \"Country\", data = gdp_data)\n",
    "\n",
    "# Create an axes object\n",
    "ax = plt.subplot()\n",
    "# Set the x-tick position using a list of numbers by the length of unique Countries\n",
    "ax.set_xticks(range(len(gdp_data[\"Country\"].unique()))) \n",
    "ax.set_xticklabels([\"Chile\", \"China\", \"Germany\", \"Mexico\", \"USA\", \"Zimbabwe\"], rotation = 30)\n",
    "\n",
    "# Create labels for the plot\n",
    "plt.title(\"Bar Chart for Country\")\n",
    "\n",
    "# Show and close the plot\n",
    "plt.show()\n",
    "plt.close()"
   ]
  },
  {
   "cell_type": "code",
   "execution_count": 4,
   "metadata": {},
   "outputs": [
    {
     "data": {
      "image/png": "[encoded data removed]",
      "text/plain": [
       "<Figure size 640x480 with 1 Axes>"
      ]
     },
     "metadata": {},
     "output_type": "display_data"
    }
   ],
   "source": [
    "# Create a Bar Chart for Year\n",
    "sns.countplot(x = \"Year\", data = gdp_data)\n",
    "\n",
    "# Create an axes object\n",
    "ax = plt.subplot()\n",
    "# Set the x-tick position using a list of numbers by the length of unique Years\n",
    "ax.set_xticks(range(len(gdp_data[\"Year\"].unique()))) \n",
    "ax.set_xticklabels(gdp_data[\"Year\"].unique(), rotation = 30)\n",
    "\n",
    "# Create labels for the chart\n",
    "plt.title(\"Bar Chart of Year\")\n",
    "\n",
    "# Show and close the plot\n",
    "plt.show()\n",
    "plt.close()"
   ]
  },
  {
   "cell_type": "code",
   "execution_count": 5,
   "metadata": {},
   "outputs": [
    {
     "name": "stdout",
     "output_type": "stream",
     "text": [
      "[2000 2001 2002 2003 2004 2005 2006 2007 2008 2009 2010 2011 2012 2013\n",
      " 2014 2015]\n"
     ]
    }
   ],
   "source": [
    "print((gdp_data.Year.unique()))"
   ]
  }
 ],
 "metadata": {
  "kernelspec": {
   "display_name": "Python 3 (ipykernel)",
   "language": "python",
   "name": "python3"
  },
  "language_info": {
   "codemirror_mode": {
    "name": "ipython",
    "version": 3
   },
   "file_extension": ".py",
   "mimetype": "text/x-python",
   "name": "python",
   "nbconvert_exporter": "python",
   "pygments_lexer": "ipython3",
   "version": "3.11.5"
  }
 },
 "nbformat": 4,
 "nbformat_minor": 4
}
