{
 "cells": [
  {
   "cell_type": "markdown",
   "metadata": {},
   "source": [
    "# Life Expectancy and GDP\n",
    "Written by TheJJSerg, Sug900, Fernando, and CalvinTheMechanic\n",
    "\n",
    "This is a Codecademy Portfolio Project to use data visualization to analyze and plot data from the World Health Organization and the World Bank to try and identify the relationship between the GDP and life expectancy of six countries.\n",
    "\n",
    "We will analyze, prepare, and plot data in order to answer questions in a meaningful way. After our analysis, we will be creating a blog post to share our findings on the World Health Organization website.\n",
    "\n",
    "## Project Objectives\n",
    "- Complete a project to add to our portfolio\n",
    "- Use `seaborn` and `Matplotlib` to create visualizations\n",
    "- Become familiar with presenting and sharing data visualizations\n",
    "- Preprocess, explore, and analyze data\n",
    "\n",
    "## Overview of the Data\n",
    "The dataset, `all_data.csv`, contains the following columns:\n",
    "- **Country**: nation for a specific observation\n",
    "- **Year**: the year for the observation\n",
    "- **Life expectancy at birth (years)**: the life expectancy value in years\n",
    "- **GDP**: Gross Domestic Product in U.S. dollars"
   ]
  }
 ],
 "metadata": {
  "kernelspec": {
   "display_name": "Python 3 (ipykernel)",
   "language": "python",
   "name": "python3"
  },
  "language_info": {
   "codemirror_mode": {
    "name": "ipython",
    "version": 3
   },
   "file_extension": ".py",
   "mimetype": "text/x-python",
   "name": "python",
   "nbconvert_exporter": "python",
   "pygments_lexer": "ipython3",
   "version": "3.11.5"
  }
 },
 "nbformat": 4,
 "nbformat_minor": 4
}
